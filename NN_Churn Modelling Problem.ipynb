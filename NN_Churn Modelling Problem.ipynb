{
 "cells": [
  {
   "cell_type": "markdown",
   "id": "07c80b94",
   "metadata": {},
   "source": [
    "# Churn Modelling Problem\n",
    "In this part, you will be solving a data analytics challenge for a bank. You will be given a dataset with a large sample of the bank’s customers. To make this dataset, the bank gathered information such as customer id, credit score, gender, age, tenure, balance, if the customer is active, has a credit card, etc. During 6 months, the bank observed if these customers left or stayed in the bank.\n",
    "\n",
    "Your goal is to make an Artificial Neural Network that can predict, based on geo-demographical and transactional information given above, if any individual customer will leave the bank or stay (customer churn). Besides, you are asked to rank all the customers of the bank, based on their probability of leaving. To do that, you will need to use the right Deep Learning model, one that is based on a probabilistic approach.\n",
    "\n",
    "If you succeed in this project, you will create significant added value to the bank. By applying your Deep Learning model the bank may significantly reduce customer churn."
   ]
  },
  {
   "cell_type": "code",
   "execution_count": 2,
   "id": "14f559df",
   "metadata": {},
   "outputs": [
    {
     "name": "stdout",
     "output_type": "stream",
     "text": [
      "Requirement already satisfied: tensorflow in c:\\users\\lenovo\\anaconda3\\lib\\site-packages (2.10.0)\n",
      "Requirement already satisfied: grpcio<2.0,>=1.24.3 in c:\\users\\lenovo\\anaconda3\\lib\\site-packages (from tensorflow) (1.42.0)\n",
      "Requirement already satisfied: six>=1.12.0 in c:\\users\\lenovo\\anaconda3\\lib\\site-packages (from tensorflow) (1.16.0)\n",
      "Requirement already satisfied: setuptools in c:\\users\\lenovo\\anaconda3\\lib\\site-packages (from tensorflow) (61.2.0)\n",
      "Requirement already satisfied: google-pasta>=0.1.1 in c:\\users\\lenovo\\anaconda3\\lib\\site-packages (from tensorflow) (0.2.0)\n",
      "Requirement already satisfied: tensorboard<2.11,>=2.10 in c:\\users\\lenovo\\anaconda3\\lib\\site-packages (from tensorflow) (2.10.1)\n",
      "Requirement already satisfied: gast<=0.4.0,>=0.2.1 in c:\\users\\lenovo\\anaconda3\\lib\\site-packages (from tensorflow) (0.4.0)\n",
      "Requirement already satisfied: opt-einsum>=2.3.2 in c:\\users\\lenovo\\anaconda3\\lib\\site-packages (from tensorflow) (3.3.0)\n",
      "Requirement already satisfied: absl-py>=1.0.0 in c:\\users\\lenovo\\anaconda3\\lib\\site-packages (from tensorflow) (1.3.0)\n",
      "Requirement already satisfied: flatbuffers>=2.0 in c:\\users\\lenovo\\anaconda3\\lib\\site-packages (from tensorflow) (22.10.26)\n",
      "Requirement already satisfied: tensorflow-io-gcs-filesystem>=0.23.1 in c:\\users\\lenovo\\anaconda3\\lib\\site-packages (from tensorflow) (0.27.0)\n",
      "Requirement already satisfied: keras-preprocessing>=1.1.1 in c:\\users\\lenovo\\anaconda3\\lib\\site-packages (from tensorflow) (1.1.2)\n",
      "Requirement already satisfied: libclang>=13.0.0 in c:\\users\\lenovo\\anaconda3\\lib\\site-packages (from tensorflow) (14.0.6)\n",
      "Requirement already satisfied: protobuf<3.20,>=3.9.2 in c:\\users\\lenovo\\anaconda3\\lib\\site-packages (from tensorflow) (3.19.1)\n",
      "Requirement already satisfied: wrapt>=1.11.0 in c:\\users\\lenovo\\anaconda3\\lib\\site-packages (from tensorflow) (1.12.1)\n",
      "Requirement already satisfied: keras<2.11,>=2.10.0 in c:\\users\\lenovo\\anaconda3\\lib\\site-packages (from tensorflow) (2.10.0)\n",
      "Requirement already satisfied: typing-extensions>=3.6.6 in c:\\users\\lenovo\\anaconda3\\lib\\site-packages (from tensorflow) (4.3.0)\n",
      "Requirement already satisfied: astunparse>=1.6.0 in c:\\users\\lenovo\\anaconda3\\lib\\site-packages (from tensorflow) (1.6.3)\n",
      "Requirement already satisfied: tensorflow-estimator<2.11,>=2.10.0 in c:\\users\\lenovo\\anaconda3\\lib\\site-packages (from tensorflow) (2.10.0)\n",
      "Requirement already satisfied: h5py>=2.9.0 in c:\\users\\lenovo\\anaconda3\\lib\\site-packages (from tensorflow) (3.6.0)\n",
      "Requirement already satisfied: packaging in c:\\users\\lenovo\\anaconda3\\lib\\site-packages (from tensorflow) (21.3)\n",
      "Requirement already satisfied: numpy>=1.20 in c:\\users\\lenovo\\anaconda3\\lib\\site-packages (from tensorflow) (1.22.4)\n",
      "Requirement already satisfied: termcolor>=1.1.0 in c:\\users\\lenovo\\anaconda3\\lib\\site-packages (from tensorflow) (2.1.0)\n",
      "Requirement already satisfied: wheel<1.0,>=0.23.0 in c:\\users\\lenovo\\anaconda3\\lib\\site-packages (from astunparse>=1.6.0->tensorflow) (0.37.1)\n",
      "Requirement already satisfied: tensorboard-data-server<0.7.0,>=0.6.0 in c:\\users\\lenovo\\anaconda3\\lib\\site-packages (from tensorboard<2.11,>=2.10->tensorflow) (0.6.1)\n",
      "Requirement already satisfied: google-auth-oauthlib<0.5,>=0.4.1 in c:\\users\\lenovo\\anaconda3\\lib\\site-packages (from tensorboard<2.11,>=2.10->tensorflow) (0.4.6)\n",
      "Requirement already satisfied: tensorboard-plugin-wit>=1.6.0 in c:\\users\\lenovo\\anaconda3\\lib\\site-packages (from tensorboard<2.11,>=2.10->tensorflow) (1.8.1)\n",
      "Requirement already satisfied: requests<3,>=2.21.0 in c:\\users\\lenovo\\anaconda3\\lib\\site-packages (from tensorboard<2.11,>=2.10->tensorflow) (2.27.1)\n",
      "Requirement already satisfied: werkzeug>=1.0.1 in c:\\users\\lenovo\\anaconda3\\lib\\site-packages (from tensorboard<2.11,>=2.10->tensorflow) (2.0.3)\n",
      "Requirement already satisfied: markdown>=2.6.8 in c:\\users\\lenovo\\anaconda3\\lib\\site-packages (from tensorboard<2.11,>=2.10->tensorflow) (3.3.4)\n",
      "Requirement already satisfied: google-auth<3,>=1.6.3 in c:\\users\\lenovo\\anaconda3\\lib\\site-packages (from tensorboard<2.11,>=2.10->tensorflow) (1.33.0)\n",
      "Requirement already satisfied: rsa<5,>=3.1.4 in c:\\users\\lenovo\\anaconda3\\lib\\site-packages (from google-auth<3,>=1.6.3->tensorboard<2.11,>=2.10->tensorflow) (4.7.2)\n",
      "Requirement already satisfied: cachetools<5.0,>=2.0.0 in c:\\users\\lenovo\\anaconda3\\lib\\site-packages (from google-auth<3,>=1.6.3->tensorboard<2.11,>=2.10->tensorflow) (4.2.2)\n",
      "Requirement already satisfied: pyasn1-modules>=0.2.1 in c:\\users\\lenovo\\anaconda3\\lib\\site-packages (from google-auth<3,>=1.6.3->tensorboard<2.11,>=2.10->tensorflow) (0.2.8)\n",
      "Requirement already satisfied: requests-oauthlib>=0.7.0 in c:\\users\\lenovo\\anaconda3\\lib\\site-packages (from google-auth-oauthlib<0.5,>=0.4.1->tensorboard<2.11,>=2.10->tensorflow) (1.3.1)\n",
      "Requirement already satisfied: pyasn1<0.5.0,>=0.4.6 in c:\\users\\lenovo\\anaconda3\\lib\\site-packages (from pyasn1-modules>=0.2.1->google-auth<3,>=1.6.3->tensorboard<2.11,>=2.10->tensorflow) (0.4.8)\n",
      "Requirement already satisfied: charset-normalizer~=2.0.0 in c:\\users\\lenovo\\anaconda3\\lib\\site-packages (from requests<3,>=2.21.0->tensorboard<2.11,>=2.10->tensorflow) (2.0.4)\n",
      "Requirement already satisfied: idna<4,>=2.5 in c:\\users\\lenovo\\anaconda3\\lib\\site-packages (from requests<3,>=2.21.0->tensorboard<2.11,>=2.10->tensorflow) (3.3)\n",
      "Requirement already satisfied: urllib3<1.27,>=1.21.1 in c:\\users\\lenovo\\anaconda3\\lib\\site-packages (from requests<3,>=2.21.0->tensorboard<2.11,>=2.10->tensorflow) (1.26.9)\n",
      "Requirement already satisfied: certifi>=2017.4.17 in c:\\users\\lenovo\\anaconda3\\lib\\site-packages (from requests<3,>=2.21.0->tensorboard<2.11,>=2.10->tensorflow) (2021.10.8)\n",
      "Requirement already satisfied: oauthlib>=3.0.0 in c:\\users\\lenovo\\anaconda3\\lib\\site-packages (from requests-oauthlib>=0.7.0->google-auth-oauthlib<0.5,>=0.4.1->tensorboard<2.11,>=2.10->tensorflow) (3.2.2)\n",
      "Requirement already satisfied: pyparsing!=3.0.5,>=2.0.2 in c:\\users\\lenovo\\anaconda3\\lib\\site-packages (from packaging->tensorflow) (3.0.4)\n"
     ]
    }
   ],
   "source": [
    "!pip install tensorflow"
   ]
  },
  {
   "cell_type": "code",
   "execution_count": 3,
   "id": "8b987600",
   "metadata": {},
   "outputs": [
    {
     "name": "stdout",
     "output_type": "stream",
     "text": [
      "Requirement already satisfied: keras in c:\\users\\lenovo\\anaconda3\\lib\\site-packages (2.10.0)\n"
     ]
    }
   ],
   "source": [
    "!pip install keras"
   ]
  },
  {
   "cell_type": "code",
   "execution_count": 4,
   "id": "7ef18bc9",
   "metadata": {},
   "outputs": [],
   "source": [
    "#import libaraeies\n",
    "import numpy as np\n",
    "import pandas as pd\n",
    "import matplotlib.pyplot as plt"
   ]
  },
  {
   "cell_type": "code",
   "execution_count": 5,
   "id": "af063887",
   "metadata": {},
   "outputs": [
    {
     "data": {
      "text/html": [
       "<div>\n",
       "<style scoped>\n",
       "    .dataframe tbody tr th:only-of-type {\n",
       "        vertical-align: middle;\n",
       "    }\n",
       "\n",
       "    .dataframe tbody tr th {\n",
       "        vertical-align: top;\n",
       "    }\n",
       "\n",
       "    .dataframe thead th {\n",
       "        text-align: right;\n",
       "    }\n",
       "</style>\n",
       "<table border=\"1\" class=\"dataframe\">\n",
       "  <thead>\n",
       "    <tr style=\"text-align: right;\">\n",
       "      <th></th>\n",
       "      <th>RowNumber</th>\n",
       "      <th>CustomerId</th>\n",
       "      <th>Surname</th>\n",
       "      <th>CreditScore</th>\n",
       "      <th>Geography</th>\n",
       "      <th>Gender</th>\n",
       "      <th>Age</th>\n",
       "      <th>Tenure</th>\n",
       "      <th>Balance</th>\n",
       "      <th>NumOfProducts</th>\n",
       "      <th>HasCrCard</th>\n",
       "      <th>IsActiveMember</th>\n",
       "      <th>EstimatedSalary</th>\n",
       "      <th>Exited</th>\n",
       "    </tr>\n",
       "  </thead>\n",
       "  <tbody>\n",
       "    <tr>\n",
       "      <th>0</th>\n",
       "      <td>1</td>\n",
       "      <td>15634602</td>\n",
       "      <td>Hargrave</td>\n",
       "      <td>619</td>\n",
       "      <td>France</td>\n",
       "      <td>Female</td>\n",
       "      <td>42</td>\n",
       "      <td>2</td>\n",
       "      <td>0.00</td>\n",
       "      <td>1</td>\n",
       "      <td>1</td>\n",
       "      <td>1</td>\n",
       "      <td>101348.88</td>\n",
       "      <td>1</td>\n",
       "    </tr>\n",
       "    <tr>\n",
       "      <th>1</th>\n",
       "      <td>2</td>\n",
       "      <td>15647311</td>\n",
       "      <td>Hill</td>\n",
       "      <td>608</td>\n",
       "      <td>Spain</td>\n",
       "      <td>Female</td>\n",
       "      <td>41</td>\n",
       "      <td>1</td>\n",
       "      <td>83807.86</td>\n",
       "      <td>1</td>\n",
       "      <td>0</td>\n",
       "      <td>1</td>\n",
       "      <td>112542.58</td>\n",
       "      <td>0</td>\n",
       "    </tr>\n",
       "    <tr>\n",
       "      <th>2</th>\n",
       "      <td>3</td>\n",
       "      <td>15619304</td>\n",
       "      <td>Onio</td>\n",
       "      <td>502</td>\n",
       "      <td>France</td>\n",
       "      <td>Female</td>\n",
       "      <td>42</td>\n",
       "      <td>8</td>\n",
       "      <td>159660.80</td>\n",
       "      <td>3</td>\n",
       "      <td>1</td>\n",
       "      <td>0</td>\n",
       "      <td>113931.57</td>\n",
       "      <td>1</td>\n",
       "    </tr>\n",
       "    <tr>\n",
       "      <th>3</th>\n",
       "      <td>4</td>\n",
       "      <td>15701354</td>\n",
       "      <td>Boni</td>\n",
       "      <td>699</td>\n",
       "      <td>France</td>\n",
       "      <td>Female</td>\n",
       "      <td>39</td>\n",
       "      <td>1</td>\n",
       "      <td>0.00</td>\n",
       "      <td>2</td>\n",
       "      <td>0</td>\n",
       "      <td>0</td>\n",
       "      <td>93826.63</td>\n",
       "      <td>0</td>\n",
       "    </tr>\n",
       "    <tr>\n",
       "      <th>4</th>\n",
       "      <td>5</td>\n",
       "      <td>15737888</td>\n",
       "      <td>Mitchell</td>\n",
       "      <td>850</td>\n",
       "      <td>Spain</td>\n",
       "      <td>Female</td>\n",
       "      <td>43</td>\n",
       "      <td>2</td>\n",
       "      <td>125510.82</td>\n",
       "      <td>1</td>\n",
       "      <td>1</td>\n",
       "      <td>1</td>\n",
       "      <td>79084.10</td>\n",
       "      <td>0</td>\n",
       "    </tr>\n",
       "  </tbody>\n",
       "</table>\n",
       "</div>"
      ],
      "text/plain": [
       "   RowNumber  CustomerId   Surname  CreditScore Geography  Gender  Age  \\\n",
       "0          1    15634602  Hargrave          619    France  Female   42   \n",
       "1          2    15647311      Hill          608     Spain  Female   41   \n",
       "2          3    15619304      Onio          502    France  Female   42   \n",
       "3          4    15701354      Boni          699    France  Female   39   \n",
       "4          5    15737888  Mitchell          850     Spain  Female   43   \n",
       "\n",
       "   Tenure    Balance  NumOfProducts  HasCrCard  IsActiveMember  \\\n",
       "0       2       0.00              1          1               1   \n",
       "1       1   83807.86              1          0               1   \n",
       "2       8  159660.80              3          1               0   \n",
       "3       1       0.00              2          0               0   \n",
       "4       2  125510.82              1          1               1   \n",
       "\n",
       "   EstimatedSalary  Exited  \n",
       "0        101348.88       1  \n",
       "1        112542.58       0  \n",
       "2        113931.57       1  \n",
       "3         93826.63       0  \n",
       "4         79084.10       0  "
      ]
     },
     "execution_count": 5,
     "metadata": {},
     "output_type": "execute_result"
    }
   ],
   "source": [
    "#import churn modelling daatset\n",
    "data=pd.read_csv(\"Churn_Modelling.csv\")\n",
    "data.head()"
   ]
  },
  {
   "cell_type": "markdown",
   "id": "db44d337",
   "metadata": {},
   "source": [
    "# EDA"
   ]
  },
  {
   "cell_type": "code",
   "execution_count": 6,
   "id": "5bb8af8e",
   "metadata": {},
   "outputs": [
    {
     "data": {
      "text/plain": [
       "(10000, 14)"
      ]
     },
     "execution_count": 6,
     "metadata": {},
     "output_type": "execute_result"
    }
   ],
   "source": [
    "data.shape"
   ]
  },
  {
   "cell_type": "code",
   "execution_count": 7,
   "id": "1f4b9da4",
   "metadata": {},
   "outputs": [
    {
     "name": "stdout",
     "output_type": "stream",
     "text": [
      "<class 'pandas.core.frame.DataFrame'>\n",
      "RangeIndex: 10000 entries, 0 to 9999\n",
      "Data columns (total 14 columns):\n",
      " #   Column           Non-Null Count  Dtype  \n",
      "---  ------           --------------  -----  \n",
      " 0   RowNumber        10000 non-null  int64  \n",
      " 1   CustomerId       10000 non-null  int64  \n",
      " 2   Surname          10000 non-null  object \n",
      " 3   CreditScore      10000 non-null  int64  \n",
      " 4   Geography        10000 non-null  object \n",
      " 5   Gender           10000 non-null  object \n",
      " 6   Age              10000 non-null  int64  \n",
      " 7   Tenure           10000 non-null  int64  \n",
      " 8   Balance          10000 non-null  float64\n",
      " 9   NumOfProducts    10000 non-null  int64  \n",
      " 10  HasCrCard        10000 non-null  int64  \n",
      " 11  IsActiveMember   10000 non-null  int64  \n",
      " 12  EstimatedSalary  10000 non-null  float64\n",
      " 13  Exited           10000 non-null  int64  \n",
      "dtypes: float64(2), int64(9), object(3)\n",
      "memory usage: 1.1+ MB\n"
     ]
    }
   ],
   "source": [
    "data.info()\n"
   ]
  },
  {
   "cell_type": "code",
   "execution_count": 8,
   "id": "862e3ab9",
   "metadata": {},
   "outputs": [
    {
     "data": {
      "text/plain": [
       "RowNumber          0\n",
       "CustomerId         0\n",
       "Surname            0\n",
       "CreditScore        0\n",
       "Geography          0\n",
       "Gender             0\n",
       "Age                0\n",
       "Tenure             0\n",
       "Balance            0\n",
       "NumOfProducts      0\n",
       "HasCrCard          0\n",
       "IsActiveMember     0\n",
       "EstimatedSalary    0\n",
       "Exited             0\n",
       "dtype: int64"
      ]
     },
     "execution_count": 8,
     "metadata": {},
     "output_type": "execute_result"
    }
   ],
   "source": [
    "data.isna().sum()"
   ]
  },
  {
   "cell_type": "code",
   "execution_count": 9,
   "id": "12731940",
   "metadata": {},
   "outputs": [
    {
     "data": {
      "text/plain": [
       "0"
      ]
     },
     "execution_count": 9,
     "metadata": {},
     "output_type": "execute_result"
    }
   ],
   "source": [
    "data.duplicated().sum()"
   ]
  },
  {
   "cell_type": "markdown",
   "id": "4a31c3ef",
   "metadata": {},
   "source": [
    "## divide the dataset into inputs and output "
   ]
  },
  {
   "cell_type": "code",
   "execution_count": 10,
   "id": "e4b06c00",
   "metadata": {},
   "outputs": [
    {
     "data": {
      "text/plain": [
       "array([[619, 'France', 'Female', ..., 1, 1, 101348.88],\n",
       "       [608, 'Spain', 'Female', ..., 0, 1, 112542.58],\n",
       "       [502, 'France', 'Female', ..., 1, 0, 113931.57],\n",
       "       ...,\n",
       "       [709, 'France', 'Female', ..., 0, 1, 42085.58],\n",
       "       [772, 'Germany', 'Male', ..., 1, 0, 92888.52],\n",
       "       [792, 'France', 'Female', ..., 1, 0, 38190.78]], dtype=object)"
      ]
     },
     "execution_count": 10,
     "metadata": {},
     "output_type": "execute_result"
    }
   ],
   "source": [
    "x=data.iloc[:,3:13].values #inputs\n",
    "x"
   ]
  },
  {
   "cell_type": "code",
   "execution_count": 11,
   "id": "abb8c9cb",
   "metadata": {},
   "outputs": [
    {
     "data": {
      "text/plain": [
       "array([1, 0, 1, ..., 1, 1, 0], dtype=int64)"
      ]
     },
     "execution_count": 11,
     "metadata": {},
     "output_type": "execute_result"
    }
   ],
   "source": [
    "#output\n",
    "y=data.iloc[:, 13].values\n",
    "y"
   ]
  },
  {
   "cell_type": "markdown",
   "id": "4b9b856e",
   "metadata": {},
   "source": [
    "## Encoding the Categorical data\n",
    "### In this step, we Encode our categorical data. If we see our dataset then Geography & Gender attribute is in Text and we Encode these two attributes in this part use the LabelEncoder and OneHOTEncoder from the Sklearn.processing library."
   ]
  },
  {
   "cell_type": "code",
   "execution_count": 12,
   "id": "7f42be1e",
   "metadata": {},
   "outputs": [],
   "source": [
    "from sklearn.preprocessing import LabelEncoder, OneHotEncoder\n",
    "labelencoder_x1=LabelEncoder()\n",
    "x[:,1]=labelencoder_x1.fit_transform(x[:,1])\n",
    "labelencoder_x2=LabelEncoder()\n",
    "x[:,2]=labelencoder_x2.fit_transform(x[:,2])\n",
    "\n",
    "# now we aree applying one hot encoding on x data\n",
    "onehotencoder=OneHotEncoder()\n",
    "x=onehotencoder.fit_transform(x).toarray()\n",
    "x=x[:, 1:]\n"
   ]
  },
  {
   "cell_type": "code",
   "execution_count": 13,
   "id": "aa99990e",
   "metadata": {},
   "outputs": [
    {
     "data": {
      "text/plain": [
       "array([[0., 0., 0., ..., 0., 0., 0.],\n",
       "       [0., 0., 0., ..., 0., 0., 0.],\n",
       "       [0., 0., 0., ..., 0., 0., 0.],\n",
       "       ...,\n",
       "       [0., 0., 0., ..., 0., 0., 0.],\n",
       "       [0., 0., 0., ..., 0., 0., 0.],\n",
       "       [0., 0., 0., ..., 0., 0., 0.]])"
      ]
     },
     "execution_count": 13,
     "metadata": {},
     "output_type": "execute_result"
    }
   ],
   "source": [
    "x"
   ]
  },
  {
   "cell_type": "code",
   "execution_count": 14,
   "id": "830daf2c",
   "metadata": {},
   "outputs": [
    {
     "data": {
      "text/plain": [
       "(10000, 16934)"
      ]
     },
     "execution_count": 14,
     "metadata": {},
     "output_type": "execute_result"
    }
   ],
   "source": [
    "x.shape"
   ]
  },
  {
   "cell_type": "markdown",
   "id": "f1283255",
   "metadata": {},
   "source": [
    "# data splitting"
   ]
  },
  {
   "cell_type": "code",
   "execution_count": 15,
   "id": "b7d7ff07",
   "metadata": {},
   "outputs": [],
   "source": [
    "from sklearn.model_selection import train_test_split\n",
    "x_train, x_test, y_train, y_test=train_test_split(x, y, test_size=0.2, random_state=0)"
   ]
  },
  {
   "cell_type": "code",
   "execution_count": 16,
   "id": "fb419dca",
   "metadata": {},
   "outputs": [],
   "source": [
    "#feature scaling\n",
    "from sklearn.preprocessing import StandardScaler\n",
    "sc=StandardScaler()\n",
    "x_train=sc.fit_transform(x_train)\n",
    "x_test=sc.fit_transform(x_test)"
   ]
  },
  {
   "cell_type": "code",
   "execution_count": 17,
   "id": "9845ed0a",
   "metadata": {},
   "outputs": [
    {
     "data": {
      "text/plain": [
       "(8000, 16934)"
      ]
     },
     "execution_count": 17,
     "metadata": {},
     "output_type": "execute_result"
    }
   ],
   "source": [
    "x_train.shape"
   ]
  },
  {
   "cell_type": "markdown",
   "id": "83af224b",
   "metadata": {},
   "source": [
    "# model building"
   ]
  },
  {
   "cell_type": "code",
   "execution_count": 18,
   "id": "1b8cbd5d",
   "metadata": {},
   "outputs": [],
   "source": [
    "# ANN Libraries\n",
    "import keras\n",
    "from keras.models import Sequential\n",
    "from keras.layers import Dense"
   ]
  },
  {
   "cell_type": "code",
   "execution_count": 33,
   "id": "47148368",
   "metadata": {},
   "outputs": [],
   "source": [
    "#intilize our ANN MOdel\n",
    "classifier=Sequential()"
   ]
  },
  {
   "cell_type": "code",
   "execution_count": 34,
   "id": "f47038ab",
   "metadata": {},
   "outputs": [],
   "source": [
    "#Adding the input layer and first hidden layer\n",
    "classifier.add(Dense(6, kernel_initializer='uniform', input_shape=(x_train.shape[1],), activation='relu', input_dim=11))"
   ]
  },
  {
   "cell_type": "code",
   "execution_count": 35,
   "id": "d1c7a90e",
   "metadata": {},
   "outputs": [],
   "source": [
    "#Adding the second hidden layer\n",
    "classifier.add(Dense(units=6, kernel_initializer='uniform', activation='relu'))"
   ]
  },
  {
   "cell_type": "code",
   "execution_count": 36,
   "id": "6e16f67c",
   "metadata": {},
   "outputs": [],
   "source": [
    "#Adding the third hidden layer\n",
    "classifier.add(Dense(units=8, kernel_initializer='uniform', activation='relu'))"
   ]
  },
  {
   "cell_type": "code",
   "execution_count": 37,
   "id": "a7755666",
   "metadata": {},
   "outputs": [],
   "source": [
    "#adding output layer\n",
    "classifier.add(Dense(units=1, kernel_initializer='normal', activation='sigmoid'))"
   ]
  },
  {
   "cell_type": "code",
   "execution_count": 38,
   "id": "22c3e1d2",
   "metadata": {},
   "outputs": [],
   "source": [
    "#compliling the ANN\n",
    "classifier.compile(optimizer='adam', loss='binary_crossentropy', metrics=['accuracy'])"
   ]
  },
  {
   "cell_type": "code",
   "execution_count": null,
   "id": "62aea2ab",
   "metadata": {},
   "outputs": [],
   "source": []
  },
  {
   "cell_type": "code",
   "execution_count": 39,
   "id": "59154d2e",
   "metadata": {},
   "outputs": [
    {
     "name": "stdout",
     "output_type": "stream",
     "text": [
      "Epoch 1/100\n",
      "800/800 [==============================] - 8s 7ms/step - loss: 0.5201 - accuracy: 0.7950\n",
      "Epoch 2/100\n",
      "800/800 [==============================] - 5s 7ms/step - loss: 0.4451 - accuracy: 0.7960\n",
      "Epoch 3/100\n",
      "800/800 [==============================] - 5s 7ms/step - loss: 0.3575 - accuracy: 0.7960\n",
      "Epoch 4/100\n",
      "800/800 [==============================] - 5s 7ms/step - loss: 0.2620 - accuracy: 0.8390\n",
      "Epoch 5/100\n",
      "800/800 [==============================] - 6s 7ms/step - loss: 0.2186 - accuracy: 0.8813\n",
      "Epoch 6/100\n",
      "800/800 [==============================] - 6s 7ms/step - loss: 0.2028 - accuracy: 0.8935\n",
      "Epoch 7/100\n",
      "800/800 [==============================] - 5s 7ms/step - loss: 0.1950 - accuracy: 0.8994\n",
      "Epoch 8/100\n",
      "800/800 [==============================] - 6s 7ms/step - loss: 0.1855 - accuracy: 0.9068\n",
      "Epoch 9/100\n",
      "800/800 [==============================] - 5s 7ms/step - loss: 0.1825 - accuracy: 0.9091\n",
      "Epoch 10/100\n",
      "800/800 [==============================] - 5s 7ms/step - loss: 0.1816 - accuracy: 0.9097\n",
      "Epoch 11/100\n",
      "800/800 [==============================] - 6s 7ms/step - loss: 0.1804 - accuracy: 0.9111\n",
      "Epoch 12/100\n",
      "800/800 [==============================] - 5s 7ms/step - loss: 0.1740 - accuracy: 0.9155\n",
      "Epoch 13/100\n",
      "800/800 [==============================] - 5s 7ms/step - loss: 0.1719 - accuracy: 0.9162\n",
      "Epoch 14/100\n",
      "800/800 [==============================] - 6s 7ms/step - loss: 0.1403 - accuracy: 0.9421\n",
      "Epoch 15/100\n",
      "800/800 [==============================] - 5s 6ms/step - loss: 0.1210 - accuracy: 0.9544\n",
      "Epoch 16/100\n",
      "800/800 [==============================] - 6s 7ms/step - loss: 0.1172 - accuracy: 0.9557\n",
      "Epoch 17/100\n",
      "800/800 [==============================] - 7s 9ms/step - loss: 0.1248 - accuracy: 0.9504\n",
      "Epoch 18/100\n",
      "800/800 [==============================] - 7s 8ms/step - loss: 0.1094 - accuracy: 0.9599\n",
      "Epoch 19/100\n",
      "800/800 [==============================] - 5s 6ms/step - loss: 0.0946 - accuracy: 0.9681\n",
      "Epoch 20/100\n",
      "800/800 [==============================] - 5s 6ms/step - loss: 0.0930 - accuracy: 0.9686\n",
      "Epoch 21/100\n",
      "800/800 [==============================] - 4s 5ms/step - loss: 0.0919 - accuracy: 0.9690\n",
      "Epoch 22/100\n",
      "800/800 [==============================] - 5s 6ms/step - loss: 0.0917 - accuracy: 0.9690\n",
      "Epoch 23/100\n",
      "800/800 [==============================] - 5s 6ms/step - loss: 0.0913 - accuracy: 0.9693\n",
      "Epoch 24/100\n",
      "800/800 [==============================] - 4s 5ms/step - loss: 0.0904 - accuracy: 0.9695\n",
      "Epoch 25/100\n",
      "800/800 [==============================] - 5s 6ms/step - loss: 0.0884 - accuracy: 0.9706\n",
      "Epoch 26/100\n",
      "800/800 [==============================] - 5s 6ms/step - loss: 0.0879 - accuracy: 0.9707\n",
      "Epoch 27/100\n",
      "800/800 [==============================] - 5s 6ms/step - loss: 0.0876 - accuracy: 0.9710\n",
      "Epoch 28/100\n",
      "800/800 [==============================] - 4s 5ms/step - loss: 0.0877 - accuracy: 0.9709\n",
      "Epoch 29/100\n",
      "800/800 [==============================] - 5s 6ms/step - loss: 0.0862 - accuracy: 0.9716\n",
      "Epoch 30/100\n",
      "800/800 [==============================] - 5s 6ms/step - loss: 0.0855 - accuracy: 0.9720\n",
      "Epoch 31/100\n",
      "800/800 [==============================] - 4s 5ms/step - loss: 0.0855 - accuracy: 0.9720\n",
      "Epoch 32/100\n",
      "800/800 [==============================] - 5s 6ms/step - loss: 0.0855 - accuracy: 0.9720\n",
      "Epoch 33/100\n",
      "800/800 [==============================] - 5s 6ms/step - loss: 0.0852 - accuracy: 0.9721\n",
      "Epoch 34/100\n",
      "800/800 [==============================] - 5s 6ms/step - loss: 0.0853 - accuracy: 0.9721\n",
      "Epoch 35/100\n",
      "800/800 [==============================] - 4s 5ms/step - loss: 0.0841 - accuracy: 0.9726\n",
      "Epoch 36/100\n",
      "800/800 [==============================] - 5s 6ms/step - loss: 0.0830 - accuracy: 0.9731\n",
      "Epoch 37/100\n",
      "800/800 [==============================] - 5s 6ms/step - loss: 0.0813 - accuracy: 0.9739\n",
      "Epoch 38/100\n",
      "800/800 [==============================] - 4s 5ms/step - loss: 0.0812 - accuracy: 0.9740\n",
      "Epoch 39/100\n",
      "800/800 [==============================] - 5s 6ms/step - loss: 0.0812 - accuracy: 0.9740\n",
      "Epoch 40/100\n",
      "800/800 [==============================] - 5s 6ms/step - loss: 0.0816 - accuracy: 0.9736\n",
      "Epoch 41/100\n",
      "800/800 [==============================] - 5s 6ms/step - loss: 0.0943 - accuracy: 0.9686\n",
      "Epoch 42/100\n",
      "800/800 [==============================] - 4s 5ms/step - loss: 0.0837 - accuracy: 0.9743\n",
      "Epoch 43/100\n",
      "800/800 [==============================] - 5s 6ms/step - loss: 0.0608 - accuracy: 0.9833\n",
      "Epoch 44/100\n",
      "800/800 [==============================] - 5s 6ms/step - loss: 0.0540 - accuracy: 0.9856\n",
      "Epoch 45/100\n",
      "800/800 [==============================] - 4s 5ms/step - loss: 0.0510 - accuracy: 0.9866\n",
      "Epoch 46/100\n",
      "800/800 [==============================] - 5s 6ms/step - loss: 0.0493 - accuracy: 0.9871\n",
      "Epoch 47/100\n",
      "800/800 [==============================] - 5s 6ms/step - loss: 0.0476 - accuracy: 0.9877\n",
      "Epoch 48/100\n",
      "800/800 [==============================] - 5s 6ms/step - loss: 0.0466 - accuracy: 0.9880\n",
      "Epoch 49/100\n",
      "800/800 [==============================] - 6s 8ms/step - loss: 0.0465 - accuracy: 0.9880\n",
      "Epoch 50/100\n",
      "800/800 [==============================] - 6s 7ms/step - loss: 0.0458 - accuracy: 0.9883\n",
      "Epoch 51/100\n",
      "800/800 [==============================] - 6s 7ms/step - loss: 0.0457 - accuracy: 0.9883\n",
      "Epoch 52/100\n",
      "800/800 [==============================] - 5s 7ms/step - loss: 0.0457 - accuracy: 0.9883\n",
      "Epoch 53/100\n",
      "800/800 [==============================] - 7s 9ms/step - loss: 0.0457 - accuracy: 0.9883\n",
      "Epoch 54/100\n",
      "800/800 [==============================] - 6s 8ms/step - loss: 0.0456 - accuracy: 0.9883\n",
      "Epoch 55/100\n",
      "800/800 [==============================] - 6s 8ms/step - loss: 0.0456 - accuracy: 0.9883\n",
      "Epoch 56/100\n",
      "800/800 [==============================] - 7s 9ms/step - loss: 0.0456 - accuracy: 0.9883\n",
      "Epoch 57/100\n",
      "800/800 [==============================] - 7s 9ms/step - loss: 0.0453 - accuracy: 0.9884\n",
      "Epoch 58/100\n",
      "800/800 [==============================] - 7s 9ms/step - loss: 0.0449 - accuracy: 0.9885\n",
      "Epoch 59/100\n",
      "800/800 [==============================] - 5s 6ms/step - loss: 0.0449 - accuracy: 0.9885\n",
      "Epoch 60/100\n",
      "800/800 [==============================] - 4s 5ms/step - loss: 0.0449 - accuracy: 0.9885\n",
      "Epoch 61/100\n",
      "800/800 [==============================] - 4s 5ms/step - loss: 0.0449 - accuracy: 0.9885\n",
      "Epoch 62/100\n",
      "800/800 [==============================] - 4s 5ms/step - loss: 0.0449 - accuracy: 0.9885\n",
      "Epoch 63/100\n",
      "800/800 [==============================] - 4s 5ms/step - loss: 0.0449 - accuracy: 0.9885\n",
      "Epoch 64/100\n",
      "800/800 [==============================] - 4s 5ms/step - loss: 0.0449 - accuracy: 0.9885\n",
      "Epoch 65/100\n",
      "800/800 [==============================] - 4s 5ms/step - loss: 0.0449 - accuracy: 0.9885\n",
      "Epoch 66/100\n",
      "800/800 [==============================] - 4s 5ms/step - loss: 0.0449 - accuracy: 0.9885\n",
      "Epoch 67/100\n",
      "800/800 [==============================] - 4s 5ms/step - loss: 0.0449 - accuracy: 0.9885\n",
      "Epoch 68/100\n",
      "800/800 [==============================] - 4s 5ms/step - loss: 0.0449 - accuracy: 0.9885\n",
      "Epoch 69/100\n",
      "800/800 [==============================] - 4s 5ms/step - loss: 0.0449 - accuracy: 0.9885\n",
      "Epoch 70/100\n",
      "800/800 [==============================] - 4s 5ms/step - loss: 0.0449 - accuracy: 0.9885\n",
      "Epoch 71/100\n",
      "800/800 [==============================] - 4s 5ms/step - loss: 0.0445 - accuracy: 0.9886\n",
      "Epoch 72/100\n",
      "800/800 [==============================] - 4s 5ms/step - loss: 0.0445 - accuracy: 0.9886\n",
      "Epoch 73/100\n",
      "800/800 [==============================] - 4s 5ms/step - loss: 0.0445 - accuracy: 0.9886\n",
      "Epoch 74/100\n",
      "800/800 [==============================] - 4s 5ms/step - loss: 0.0445 - accuracy: 0.9886\n",
      "Epoch 75/100\n",
      "800/800 [==============================] - 4s 5ms/step - loss: 0.0445 - accuracy: 0.9886\n",
      "Epoch 76/100\n",
      "800/800 [==============================] - 4s 5ms/step - loss: 0.0445 - accuracy: 0.9886\n",
      "Epoch 77/100\n",
      "800/800 [==============================] - 4s 5ms/step - loss: 0.0445 - accuracy: 0.9886\n",
      "Epoch 78/100\n",
      "800/800 [==============================] - 4s 5ms/step - loss: 0.0445 - accuracy: 0.9886\n",
      "Epoch 79/100\n",
      "800/800 [==============================] - 4s 5ms/step - loss: 0.0445 - accuracy: 0.9886\n",
      "Epoch 80/100\n",
      "800/800 [==============================] - 8s 10ms/step - loss: 0.0445 - accuracy: 0.9886\n",
      "Epoch 81/100\n",
      "800/800 [==============================] - 8s 10ms/step - loss: 0.0445 - accuracy: 0.9886\n",
      "Epoch 82/100\n",
      "800/800 [==============================] - 6s 7ms/step - loss: 0.0445 - accuracy: 0.9886\n",
      "Epoch 83/100\n",
      "800/800 [==============================] - 6s 7ms/step - loss: 0.0445 - accuracy: 0.9886\n",
      "Epoch 84/100\n",
      "800/800 [==============================] - 7s 9ms/step - loss: 0.0445 - accuracy: 0.9886\n",
      "Epoch 85/100\n",
      "800/800 [==============================] - 7s 9ms/step - loss: 0.0445 - accuracy: 0.9886\n",
      "Epoch 86/100\n",
      "800/800 [==============================] - 8s 10ms/step - loss: 0.0445 - accuracy: 0.9886\n",
      "Epoch 87/100\n",
      "800/800 [==============================] - 8s 10ms/step - loss: 0.0445 - accuracy: 0.9886\n",
      "Epoch 88/100\n",
      "800/800 [==============================] - 8s 10ms/step - loss: 0.0445 - accuracy: 0.9886\n",
      "Epoch 89/100\n",
      "800/800 [==============================] - 9s 11ms/step - loss: 0.0445 - accuracy: 0.9886\n",
      "Epoch 90/100\n",
      "800/800 [==============================] - 9s 11ms/step - loss: 0.0445 - accuracy: 0.9886\n",
      "Epoch 91/100\n",
      "800/800 [==============================] - 9s 11ms/step - loss: 0.0445 - accuracy: 0.9886\n",
      "Epoch 92/100\n",
      "800/800 [==============================] - 7s 8ms/step - loss: 0.0445 - accuracy: 0.9886\n",
      "Epoch 93/100\n",
      "800/800 [==============================] - 7s 9ms/step - loss: 0.0445 - accuracy: 0.9886\n",
      "Epoch 94/100\n",
      "800/800 [==============================] - 7s 8ms/step - loss: 0.0445 - accuracy: 0.9886\n",
      "Epoch 95/100\n",
      "800/800 [==============================] - 6s 8ms/step - loss: 0.0445 - accuracy: 0.9886\n",
      "Epoch 96/100\n",
      "800/800 [==============================] - 6s 8ms/step - loss: 0.0445 - accuracy: 0.9886\n",
      "Epoch 97/100\n",
      "800/800 [==============================] - 7s 8ms/step - loss: 0.0445 - accuracy: 0.9886\n",
      "Epoch 98/100\n",
      "800/800 [==============================] - 6s 8ms/step - loss: 0.0445 - accuracy: 0.9886\n",
      "Epoch 99/100\n",
      "800/800 [==============================] - 6s 8ms/step - loss: 0.0445 - accuracy: 0.9886\n",
      "Epoch 100/100\n",
      "800/800 [==============================] - 6s 8ms/step - loss: 0.0445 - accuracy: 0.9886\n"
     ]
    },
    {
     "data": {
      "text/plain": [
       "<keras.callbacks.History at 0x265b2320220>"
      ]
     },
     "execution_count": 39,
     "metadata": {},
     "output_type": "execute_result"
    }
   ],
   "source": [
    "#Fitting the ANN\n",
    "classifier.fit(x_train, y_train, batch_size=10, epochs=100)"
   ]
  },
  {
   "cell_type": "code",
   "execution_count": 47,
   "id": "0612e065",
   "metadata": {},
   "outputs": [
    {
     "name": "stdout",
     "output_type": "stream",
     "text": [
      "63/63 [==============================] - 0s 7ms/step\n"
     ]
    },
    {
     "data": {
      "text/plain": [
       "array([[False],\n",
       "       [False],\n",
       "       [False],\n",
       "       ...,\n",
       "       [False],\n",
       "       [False],\n",
       "       [False]])"
      ]
     },
     "execution_count": 47,
     "metadata": {},
     "output_type": "execute_result"
    }
   ],
   "source": [
    "#predict the test set result\n",
    "y_pred=classifier.predict(x_test)\n",
    "y_pred=y_pred>0.5\n",
    "y_pred"
   ]
  },
  {
   "cell_type": "code",
   "execution_count": 48,
   "id": "7b9913c7",
   "metadata": {},
   "outputs": [
    {
     "name": "stdout",
     "output_type": "stream",
     "text": [
      "the confusion matrix is: [[1289  306]\n",
      " [ 156  249]] \n",
      " the accuracy is: 0.769 \n",
      " classification report is :               precision    recall  f1-score   support\n",
      "\n",
      "           0       0.89      0.81      0.85      1595\n",
      "           1       0.45      0.61      0.52       405\n",
      "\n",
      "    accuracy                           0.77      2000\n",
      "   macro avg       0.67      0.71      0.68      2000\n",
      "weighted avg       0.80      0.77      0.78      2000\n",
      "\n"
     ]
    }
   ],
   "source": [
    "from sklearn.metrics import confusion_matrix, accuracy_score, classification_report\n",
    "print(\"the confusion matrix is:\", confusion_matrix(y_test, y_pred),\"\\n\", \"the accuracy is:\", accuracy_score(y_test, y_pred),\n",
    "     \"\\n\", \"classification report is :\", classification_report(y_test, y_pred))"
   ]
  }
 ],
 "metadata": {
  "kernelspec": {
   "display_name": "Python 3 (ipykernel)",
   "language": "python",
   "name": "python3"
  },
  "language_info": {
   "codemirror_mode": {
    "name": "ipython",
    "version": 3
   },
   "file_extension": ".py",
   "mimetype": "text/x-python",
   "name": "python",
   "nbconvert_exporter": "python",
   "pygments_lexer": "ipython3",
   "version": "3.9.12"
  }
 },
 "nbformat": 4,
 "nbformat_minor": 5
}
